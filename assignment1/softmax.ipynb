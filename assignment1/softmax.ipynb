{
 "cells": [
  {
   "cell_type": "markdown",
   "metadata": {},
   "source": [
    "# Softmax exercise\n",
    "\n",
    "*Complete and hand in this completed worksheet (including its outputs and any supporting code outside of the worksheet) with your assignment submission. For more details see the [assignments page](http://vision.stanford.edu/teaching/cs231n/assignments.html) on the course website.*\n",
    "\n",
    "This exercise is analogous to the SVM exercise. You will:\n",
    "\n",
    "- implement a fully-vectorized **loss function** for the Softmax classifier\n",
    "- implement the fully-vectorized expression for its **analytic gradient**\n",
    "- **check your implementation** with numerical gradient\n",
    "- use a validation set to **tune the learning rate and regularization** strength\n",
    "- **optimize** the loss function with **SGD**\n",
    "- **visualize** the final learned weights\n"
   ]
  },
  {
   "cell_type": "code",
   "execution_count": 1,
   "metadata": {},
   "outputs": [],
   "source": [
    "import random\n",
    "import numpy as np\n",
    "from cs231n.data_utils import load_CIFAR10\n",
    "import matplotlib.pyplot as plt\n",
    "\n",
    "from __future__ import print_function\n",
    "\n",
    "%matplotlib inline\n",
    "plt.rcParams['figure.figsize'] = (10.0, 8.0) # set default size of plots\n",
    "plt.rcParams['image.interpolation'] = 'nearest'\n",
    "plt.rcParams['image.cmap'] = 'gray'\n",
    "\n",
    "# for auto-reloading extenrnal modules\n",
    "# see http://stackoverflow.com/questions/1907993/autoreload-of-modules-in-ipython\n",
    "%load_ext autoreload\n",
    "%autoreload 2"
   ]
  },
  {
   "cell_type": "code",
   "execution_count": 2,
   "metadata": {},
   "outputs": [
    {
     "name": "stdout",
     "output_type": "stream",
     "text": [
      "Train data shape:  (49000, 3073)\n",
      "Train labels shape:  (49000,)\n",
      "Validation data shape:  (1000, 3073)\n",
      "Validation labels shape:  (1000,)\n",
      "Test data shape:  (1000, 3073)\n",
      "Test labels shape:  (1000,)\n",
      "dev data shape:  (500, 3073)\n",
      "dev labels shape:  (500,)\n"
     ]
    }
   ],
   "source": [
    "def get_CIFAR10_data(num_training=49000, num_validation=1000, num_test=1000, num_dev=500):\n",
    "    \"\"\"\n",
    "    Load the CIFAR-10 dataset from disk and perform preprocessing to prepare\n",
    "    it for the linear classifier. These are the same steps as we used for the\n",
    "    SVM, but condensed to a single function.  \n",
    "    \"\"\"\n",
    "    # Load the raw CIFAR-10 data\n",
    "    cifar10_dir = 'cs231n/datasets/cifar-10-batches-py'\n",
    "    X_train, y_train, X_test, y_test = load_CIFAR10(cifar10_dir)\n",
    "    \n",
    "    # subsample the data\n",
    "    mask = list(range(num_training, num_training + num_validation))\n",
    "    X_val = X_train[mask]\n",
    "    y_val = y_train[mask]\n",
    "    mask = list(range(num_training))\n",
    "    X_train = X_train[mask]\n",
    "    y_train = y_train[mask]\n",
    "    mask = list(range(num_test))\n",
    "    X_test = X_test[mask]\n",
    "    y_test = y_test[mask]\n",
    "    mask = np.random.choice(num_training, num_dev, replace=False)\n",
    "    X_dev = X_train[mask]\n",
    "    y_dev = y_train[mask]\n",
    "    \n",
    "    # Preprocessing: reshape the image data into rows\n",
    "    X_train = np.reshape(X_train, (X_train.shape[0], -1))\n",
    "    X_val = np.reshape(X_val, (X_val.shape[0], -1))\n",
    "    X_test = np.reshape(X_test, (X_test.shape[0], -1))\n",
    "    X_dev = np.reshape(X_dev, (X_dev.shape[0], -1))\n",
    "    \n",
    "    # Normalize the data: subtract the mean image\n",
    "    mean_image = np.mean(X_train, axis = 0)\n",
    "    X_train -= mean_image\n",
    "    X_val -= mean_image\n",
    "    X_test -= mean_image\n",
    "    X_dev -= mean_image\n",
    "    \n",
    "    # add bias dimension and transform into columns\n",
    "    X_train = np.hstack([X_train, np.ones((X_train.shape[0], 1))])\n",
    "    X_val = np.hstack([X_val, np.ones((X_val.shape[0], 1))])\n",
    "    X_test = np.hstack([X_test, np.ones((X_test.shape[0], 1))])\n",
    "    X_dev = np.hstack([X_dev, np.ones((X_dev.shape[0], 1))])\n",
    "    \n",
    "    return X_train, y_train, X_val, y_val, X_test, y_test, X_dev, y_dev\n",
    "\n",
    "\n",
    "# Invoke the above function to get our data.\n",
    "X_train, y_train, X_val, y_val, X_test, y_test, X_dev, y_dev = get_CIFAR10_data()\n",
    "print('Train data shape: ', X_train.shape)\n",
    "print('Train labels shape: ', y_train.shape)\n",
    "print('Validation data shape: ', X_val.shape)\n",
    "print('Validation labels shape: ', y_val.shape)\n",
    "print('Test data shape: ', X_test.shape)\n",
    "print('Test labels shape: ', y_test.shape)\n",
    "print('dev data shape: ', X_dev.shape)\n",
    "print('dev labels shape: ', y_dev.shape)"
   ]
  },
  {
   "cell_type": "markdown",
   "metadata": {},
   "source": [
    "## Softmax Classifier\n",
    "\n",
    "Your code for this section will all be written inside **cs231n/classifiers/softmax.py**. \n"
   ]
  },
  {
   "cell_type": "code",
   "execution_count": 3,
   "metadata": {
    "scrolled": true
   },
   "outputs": [
    {
     "name": "stdout",
     "output_type": "stream",
     "text": [
      "loss: 2.313858\n",
      "sanity check: 2.302585\n"
     ]
    }
   ],
   "source": [
    "# First implement the naive softmax loss function with nested loops.\n",
    "# Open the file cs231n/classifiers/softmax.py and implement the\n",
    "# softmax_loss_naive function.\n",
    "\n",
    "from cs231n.classifiers.softmax import softmax_loss_naive\n",
    "import time\n",
    "\n",
    "# Generate a random softmax weight matrix and use it to compute the loss.\n",
    "W = np.random.randn(3073, 10) * 0.0001\n",
    "loss, grad = softmax_loss_naive(W, X_dev, y_dev, 0.0)\n",
    "\n",
    "# As a rough sanity check, our loss should be something close to -log(0.1).\n",
    "print('loss: %f' % loss)\n",
    "print('sanity check: %f' % (-np.log(0.1)))"
   ]
  },
  {
   "cell_type": "markdown",
   "metadata": {},
   "source": [
    "## Inline Question 1:\n",
    "Why do we expect our loss to be close to -log(0.1)? Explain briefly.**\n",
    "\n",
    "**Your answer:** *because initialization is random and the sum of classes is 10， so the probably of predict correctly class number is 1/10， then loss would be -log（0.1）*\n"
   ]
  },
  {
   "cell_type": "code",
   "execution_count": 4,
   "metadata": {},
   "outputs": [
    {
     "name": "stdout",
     "output_type": "stream",
     "text": [
      "numerical: 0.132806 analytic: 0.132806, relative error: 1.935747e-08\n",
      "numerical: -0.333358 analytic: -0.333358, relative error: 7.570128e-08\n",
      "numerical: 0.447638 analytic: 0.447638, relative error: 9.301681e-08\n",
      "numerical: -1.503826 analytic: -1.503826, relative error: 9.764316e-09\n",
      "numerical: 0.960443 analytic: 0.960443, relative error: 5.015994e-08\n",
      "numerical: 0.752607 analytic: 0.752606, relative error: 8.715967e-08\n",
      "numerical: -0.575971 analytic: -0.575971, relative error: 1.832872e-08\n",
      "numerical: 0.520361 analytic: 0.520361, relative error: 1.849647e-07\n",
      "numerical: -2.949665 analytic: -2.949665, relative error: 1.447547e-08\n",
      "numerical: -1.318654 analytic: -1.318654, relative error: 8.563577e-09\n",
      "numerical: -0.647491 analytic: -0.648654, relative error: 8.977919e-04\n",
      "numerical: -0.130432 analytic: -0.126071, relative error: 1.699811e-02\n",
      "numerical: 0.323168 analytic: 0.324897, relative error: 2.668355e-03\n",
      "numerical: -4.083572 analytic: -4.092437, relative error: 1.084336e-03\n",
      "numerical: -2.394101 analytic: -2.387023, relative error: 1.480353e-03\n",
      "numerical: 2.188227 analytic: 2.182575, relative error: 1.292958e-03\n",
      "numerical: 0.467604 analytic: 0.475662, relative error: 8.542639e-03\n",
      "numerical: -0.575969 analytic: -0.578568, relative error: 2.251355e-03\n",
      "numerical: 1.182959 analytic: 1.176485, relative error: 2.743724e-03\n",
      "numerical: 1.147349 analytic: 1.151463, relative error: 1.789605e-03\n"
     ]
    }
   ],
   "source": [
    "# Complete the implementation of softmax_loss_naive and implement a (naive)\n",
    "# version of the gradient that uses nested loops.\n",
    "loss, grad = softmax_loss_naive(W, X_dev, y_dev, 0.0)\n",
    "\n",
    "# As we did for the SVM, use numeric gradient checking as a debugging tool.\n",
    "# The numeric gradient should be close to the analytic gradient.\n",
    "from cs231n.gradient_check import grad_check_sparse\n",
    "f = lambda w: softmax_loss_naive(w, X_dev, y_dev, 0.0)[0]\n",
    "grad_numerical = grad_check_sparse(f, W, grad, 10)\n",
    "\n",
    "# similar to SVM case, do another gradient check with regularization\n",
    "loss, grad = softmax_loss_naive(W, X_dev, y_dev, 5e1)\n",
    "f = lambda w: softmax_loss_naive(w, X_dev, y_dev, 5e1)[0]\n",
    "grad_numerical = grad_check_sparse(f, W, grad, 10)"
   ]
  },
  {
   "cell_type": "code",
   "execution_count": 7,
   "metadata": {},
   "outputs": [
    {
     "name": "stdout",
     "output_type": "stream",
     "text": [
      "naive loss: 8.557347e+00 computed in 0.118805s\n",
      "vectorized loss: 2.366059e+01 computed in 0.003963s\n",
      "Loss difference: 15.103239\n",
      "Gradient difference: 2921.802962\n"
     ]
    }
   ],
   "source": [
    "# Now that we have a naive implementation of the softmax loss function and its gradient,\n",
    "# implement a vectorized version in softmax_loss_vectorized.\n",
    "# The two versions should compute the same results, but the vectorized version should be\n",
    "# much faster.\n",
    "tic = time.time()\n",
    "loss_naive, grad_naive = softmax_loss_naive(W, X_dev, y_dev, 0.000005)\n",
    "toc = time.time()\n",
    "print('naive loss: %e computed in %fs' % (loss_naive, toc - tic))\n",
    "\n",
    "from cs231n.classifiers.softmax import softmax_loss_vectorized\n",
    "tic = time.time()\n",
    "loss_vectorized, grad_vectorized = softmax_loss_vectorized(W, X_dev, y_dev, 0.000005)\n",
    "toc = time.time()\n",
    "print('vectorized loss: %e computed in %fs' % (loss_vectorized, toc - tic))\n",
    "\n",
    "# As we did for the SVM, we use the Frobenius norm to compare the two versions\n",
    "# of the gradient.\n",
    "grad_difference = np.linalg.norm(grad_naive - grad_vectorized, ord='fro')\n",
    "print('Loss difference: %f' % np.abs(loss_naive - loss_vectorized))\n",
    "print('Gradient difference: %f' % grad_difference)"
   ]
  },
  {
   "cell_type": "code",
   "execution_count": 142,
   "metadata": {},
   "outputs": [
    {
     "name": "stdout",
     "output_type": "stream",
     "text": [
      "iteration 0 / 2000: loss 767.096731\n",
      "iteration 100 / 2000: loss 463.533523\n",
      "iteration 200 / 2000: loss 280.936558\n",
      "iteration 300 / 2000: loss 170.689030\n",
      "iteration 400 / 2000: loss 103.975516\n",
      "iteration 500 / 2000: loss 63.893466\n",
      "iteration 600 / 2000: loss 39.453397\n",
      "iteration 700 / 2000: loss 24.672950\n",
      "iteration 800 / 2000: loss 15.746315\n",
      "iteration 900 / 2000: loss 10.320100\n",
      "iteration 1000 / 2000: loss 7.061563\n",
      "iteration 1100 / 2000: loss 5.192119\n",
      "iteration 1200 / 2000: loss 3.909124\n",
      "iteration 1300 / 2000: loss 3.238767\n",
      "iteration 1400 / 2000: loss 2.721814\n",
      "iteration 1500 / 2000: loss 2.504405\n",
      "iteration 1600 / 2000: loss 2.305922\n",
      "iteration 1700 / 2000: loss 2.245334\n",
      "iteration 1800 / 2000: loss 2.221451\n",
      "iteration 1900 / 2000: loss 2.235479\n",
      "iteration 0 / 2000: loss 1549.826290\n",
      "iteration 100 / 2000: loss 567.395729\n",
      "iteration 200 / 2000: loss 208.933385\n",
      "iteration 300 / 2000: loss 77.875593\n",
      "iteration 400 / 2000: loss 29.917747\n",
      "iteration 500 / 2000: loss 12.298012\n",
      "iteration 600 / 2000: loss 5.892167\n",
      "iteration 700 / 2000: loss 3.477004\n",
      "iteration 800 / 2000: loss 2.699879\n",
      "iteration 900 / 2000: loss 2.316257\n",
      "iteration 1000 / 2000: loss 2.270420\n",
      "iteration 1100 / 2000: loss 2.163691\n",
      "iteration 1200 / 2000: loss 2.188314\n",
      "iteration 1300 / 2000: loss 2.158194\n",
      "iteration 1400 / 2000: loss 2.205931\n",
      "iteration 1500 / 2000: loss 2.153548\n",
      "iteration 1600 / 2000: loss 2.179395\n",
      "iteration 1700 / 2000: loss 2.199005\n",
      "iteration 1800 / 2000: loss 2.166232\n",
      "iteration 1900 / 2000: loss 2.117751\n",
      "iteration 0 / 2000: loss 767.972663\n",
      "iteration 100 / 2000: loss 63.255734\n",
      "iteration 200 / 2000: loss 6.967442\n",
      "iteration 300 / 2000: loss 2.552147\n",
      "iteration 400 / 2000: loss 2.075829\n",
      "iteration 500 / 2000: loss 2.095557\n",
      "iteration 600 / 2000: loss 2.132500\n",
      "iteration 700 / 2000: loss 2.171912\n",
      "iteration 800 / 2000: loss 2.072406\n",
      "iteration 900 / 2000: loss 2.145646\n",
      "iteration 1000 / 2000: loss 2.101659\n",
      "iteration 1100 / 2000: loss 2.130657\n",
      "iteration 1200 / 2000: loss 2.099504\n",
      "iteration 1300 / 2000: loss 2.144309\n",
      "iteration 1400 / 2000: loss 2.083661\n",
      "iteration 1500 / 2000: loss 2.147635\n",
      "iteration 1600 / 2000: loss 2.129688\n",
      "iteration 1700 / 2000: loss 2.168294\n",
      "iteration 1800 / 2000: loss 2.193999\n",
      "iteration 1900 / 2000: loss 2.102717\n",
      "iteration 0 / 2000: loss 1538.596142\n",
      "iteration 100 / 2000: loss 11.798531\n",
      "iteration 200 / 2000: loss 2.267011\n",
      "iteration 300 / 2000: loss 2.125084\n",
      "iteration 400 / 2000: loss 2.249755\n",
      "iteration 500 / 2000: loss 2.209776\n",
      "iteration 600 / 2000: loss 2.151815\n",
      "iteration 700 / 2000: loss 2.224866\n",
      "iteration 800 / 2000: loss 2.219950\n",
      "iteration 900 / 2000: loss 2.085492\n",
      "iteration 1000 / 2000: loss 2.127114\n",
      "iteration 1100 / 2000: loss 2.133961\n",
      "iteration 1200 / 2000: loss 2.236346\n",
      "iteration 1300 / 2000: loss 2.246672\n",
      "iteration 1400 / 2000: loss 2.202140\n",
      "iteration 1500 / 2000: loss 2.167224\n",
      "iteration 1600 / 2000: loss 2.161048\n",
      "iteration 1700 / 2000: loss 2.163713\n",
      "iteration 1800 / 2000: loss 2.201017\n",
      "iteration 1900 / 2000: loss 2.153130\n",
      "lr 1.000000e-07 reg 2.500000e+04 train accuracy: 0.348776 val accuracy: 0.367000\n",
      "lr 1.000000e-07 reg 5.000000e+04 train accuracy: 0.326367 val accuracy: 0.344000\n",
      "lr 5.000000e-07 reg 2.500000e+04 train accuracy: 0.345816 val accuracy: 0.348000\n",
      "lr 5.000000e-07 reg 5.000000e+04 train accuracy: 0.325122 val accuracy: 0.339000\n",
      "best validation accuracy achieved during cross-validation: 0.367000\n"
     ]
    }
   ],
   "source": [
    "# Use the validation set to tune hyperparameters (regularization strength and\n",
    "# learning rate). You should experiment with different ranges for the learning\n",
    "# rates and regularization strengths; if you are careful you should be able to\n",
    "# get a classification accuracy of over 0.35 on the validation set.\n",
    "from cs231n.classifiers import Softmax\n",
    "results = {}\n",
    "best_val = -1\n",
    "best_softmax = None\n",
    "learning_rates = [1e-7, 5e-7]\n",
    "regularization_strengths = [2.5e4, 5e4]\n",
    "\n",
    "################################################################################\n",
    "# TODO:                                                                        #\n",
    "# Use the validation set to set the learning rate and regularization strength. #\n",
    "# This should be identical to the validation that you did for the SVM; save    #\n",
    "# the best trained softmax classifer in best_softmax.                          #\n",
    "################################################################################\n",
    "for i in learning_rates:\n",
    "    for j in regularization_strengths:\n",
    "        softmax = Softmax()\n",
    "        loss_hist = softmax.train(X_train, y_train, i, j,\n",
    "                      num_iters=2000, verbose=True)\n",
    "        y_train_pred = softmax.predict(X_train)\n",
    "        accuracy = np.mean(y_train == y_train_pred)\n",
    "        y_val_pred = softmax.predict(X_val)\n",
    "        accuracy1 = np.mean(y_val == y_val_pred)\n",
    "        results[(i,j)] = (accuracy,accuracy1)\n",
    "        if accuracy1>best_val:\n",
    "            best_val = accuracy1\n",
    "            best_softmax = softmax\n",
    "pass\n",
    "################################################################################\n",
    "#                              END OF YOUR CODE                                #\n",
    "################################################################################\n",
    "    \n",
    "# Print out results.\n",
    "for lr, reg in sorted(results):\n",
    "    train_accuracy, val_accuracy = results[(lr, reg)]\n",
    "    print('lr %e reg %e train accuracy: %f val accuracy: %f' % (\n",
    "                lr, reg, train_accuracy, val_accuracy))\n",
    "    \n",
    "print('best validation accuracy achieved during cross-validation: %f' % best_val)"
   ]
  },
  {
   "cell_type": "code",
   "execution_count": 143,
   "metadata": {},
   "outputs": [
    {
     "name": "stdout",
     "output_type": "stream",
     "text": [
      "softmax on raw pixels final test set accuracy: 0.362000\n"
     ]
    }
   ],
   "source": [
    "# evaluate on test set\n",
    "# Evaluate the best softmax on test set\n",
    "y_test_pred = best_softmax.predict(X_test)\n",
    "test_accuracy = np.mean(y_test == y_test_pred)\n",
    "print('softmax on raw pixels final test set accuracy: %f' % (test_accuracy, ))"
   ]
  },
  {
   "cell_type": "code",
   "execution_count": 145,
   "metadata": {},
   "outputs": [
    {
     "data": {
      "image/png": "[encoded data removed]",
      "text/plain": [
       "<matplotlib.figure.Figure at 0x7ff9ef4b4fd0>"
      ]
     },
     "metadata": {},
     "output_type": "display_data"
    }
   ],
   "source": [
    "# Visualize the learned weights for each class\n",
    "w = best_softmax.W[:-1,:] # strip out the bias\n",
    "w = w.reshape(32, 32, 3, 10)\n",
    "\n",
    "w_min, w_max = np.min(w), np.max(w)\n",
    "\n",
    "classes = ['plane', 'car', 'bird', 'cat', 'deer', 'dog', 'frog', 'horse', 'ship', 'truck']\n",
    "for i in range(10):\n",
    "    plt.subplot(2, 5, i + 1)\n",
    "    \n",
    "    # Rescale the weights to be between 0 and 255\n",
    "    wimg = 255.0 * (w[:, :, :, i].squeeze() - w_min) / (w_max - w_min)\n",
    "    plt.imshow(wimg.astype('uint8'))\n",
    "    plt.axis('off')\n",
    "    plt.title(classes[i])"
   ]
  },
  {
   "cell_type": "code",
   "execution_count": null,
   "metadata": {},
   "outputs": [],
   "source": []
  }
 ],
 "metadata": {
  "kernelspec": {
   "display_name": "Python 2",
   "language": "python",
   "name": "python2"
  },
  "language_info": {
   "codemirror_mode": {
    "name": "ipython",
    "version": 2
   },
   "file_extension": ".py",
   "mimetype": "text/x-python",
   "name": "python",
   "nbconvert_exporter": "python",
   "pygments_lexer": "ipython2",
   "version": "2.7.12"
  }
 },
 "nbformat": 4,
 "nbformat_minor": 1
}
